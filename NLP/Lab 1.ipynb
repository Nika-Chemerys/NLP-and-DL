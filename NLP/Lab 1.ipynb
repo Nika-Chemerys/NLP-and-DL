{
 "cells": [
  {
   "cell_type": "code",
   "execution_count": 13,
   "id": "91f77913",
   "metadata": {},
   "outputs": [
    {
     "name": "stderr",
     "output_type": "stream",
     "text": [
      "[nltk_data] Downloading package nps_chat to\n",
      "[nltk_data]     /home/8c9d5ce0-7fb0-40e0-90b1-\n",
      "[nltk_data]     ea38142dc02c/nltk_data...\n",
      "[nltk_data]   Package nps_chat is already up-to-date!\n"
     ]
    },
    {
     "data": {
      "text/plain": [
       "True"
      ]
     },
     "execution_count": 13,
     "metadata": {},
     "output_type": "execute_result"
    }
   ],
   "source": [
    "import nltk\n",
    "nltk.download('nps_chat')"
   ]
  },
  {
   "cell_type": "code",
   "execution_count": 15,
   "id": "026c5773",
   "metadata": {},
   "outputs": [
    {
     "name": "stderr",
     "output_type": "stream",
     "text": [
      "[nltk_data] Downloading collection 'popular'\n",
      "[nltk_data]    | \n",
      "[nltk_data]    | Downloading package cmudict to /home/8c9d5ce0-7fb0-\n",
      "[nltk_data]    |     40e0-90b1-ea38142dc02c/nltk_data...\n",
      "[nltk_data]    |   Package cmudict is already up-to-date!\n",
      "[nltk_data]    | Downloading package gazetteers to /home/8c9d5ce0-\n",
      "[nltk_data]    |     7fb0-40e0-90b1-ea38142dc02c/nltk_data...\n",
      "[nltk_data]    |   Package gazetteers is already up-to-date!\n",
      "[nltk_data]    | Downloading package genesis to /home/8c9d5ce0-7fb0-\n",
      "[nltk_data]    |     40e0-90b1-ea38142dc02c/nltk_data...\n",
      "[nltk_data]    |   Package genesis is already up-to-date!\n",
      "[nltk_data]    | Downloading package gutenberg to /home/8c9d5ce0-7fb0-\n",
      "[nltk_data]    |     40e0-90b1-ea38142dc02c/nltk_data...\n",
      "[nltk_data]    |   Package gutenberg is already up-to-date!\n",
      "[nltk_data]    | Downloading package inaugural to /home/8c9d5ce0-7fb0-\n",
      "[nltk_data]    |     40e0-90b1-ea38142dc02c/nltk_data...\n",
      "[nltk_data]    |   Package inaugural is already up-to-date!\n",
      "[nltk_data]    | Downloading package movie_reviews to /home/8c9d5ce0-\n",
      "[nltk_data]    |     7fb0-40e0-90b1-ea38142dc02c/nltk_data...\n",
      "[nltk_data]    |   Package movie_reviews is already up-to-date!\n",
      "[nltk_data]    | Downloading package names to /home/8c9d5ce0-7fb0-\n",
      "[nltk_data]    |     40e0-90b1-ea38142dc02c/nltk_data...\n",
      "[nltk_data]    |   Package names is already up-to-date!\n",
      "[nltk_data]    | Downloading package shakespeare to /home/8c9d5ce0-\n",
      "[nltk_data]    |     7fb0-40e0-90b1-ea38142dc02c/nltk_data...\n",
      "[nltk_data]    |   Package shakespeare is already up-to-date!\n",
      "[nltk_data]    | Downloading package stopwords to /home/8c9d5ce0-7fb0-\n",
      "[nltk_data]    |     40e0-90b1-ea38142dc02c/nltk_data...\n",
      "[nltk_data]    |   Package stopwords is already up-to-date!\n",
      "[nltk_data]    | Downloading package treebank to /home/8c9d5ce0-7fb0-\n",
      "[nltk_data]    |     40e0-90b1-ea38142dc02c/nltk_data...\n",
      "[nltk_data]    |   Package treebank is already up-to-date!\n",
      "[nltk_data]    | Downloading package twitter_samples to /home/8c9d5ce0\n",
      "[nltk_data]    |     -7fb0-40e0-90b1-ea38142dc02c/nltk_data...\n",
      "[nltk_data]    |   Package twitter_samples is already up-to-date!\n",
      "[nltk_data]    | Downloading package omw to /home/8c9d5ce0-7fb0-40e0-\n",
      "[nltk_data]    |     90b1-ea38142dc02c/nltk_data...\n",
      "[nltk_data]    |   Package omw is already up-to-date!\n",
      "[nltk_data]    | Downloading package omw-1.4 to /home/8c9d5ce0-7fb0-\n",
      "[nltk_data]    |     40e0-90b1-ea38142dc02c/nltk_data...\n",
      "[nltk_data]    |   Package omw-1.4 is already up-to-date!\n",
      "[nltk_data]    | Downloading package wordnet to /home/8c9d5ce0-7fb0-\n",
      "[nltk_data]    |     40e0-90b1-ea38142dc02c/nltk_data...\n",
      "[nltk_data]    |   Package wordnet is already up-to-date!\n",
      "[nltk_data]    | Downloading package wordnet2021 to /home/8c9d5ce0-\n",
      "[nltk_data]    |     7fb0-40e0-90b1-ea38142dc02c/nltk_data...\n",
      "[nltk_data]    |   Package wordnet2021 is already up-to-date!\n",
      "[nltk_data]    | Downloading package wordnet31 to /home/8c9d5ce0-7fb0-\n",
      "[nltk_data]    |     40e0-90b1-ea38142dc02c/nltk_data...\n",
      "[nltk_data]    |   Package wordnet31 is already up-to-date!\n",
      "[nltk_data]    | Downloading package wordnet_ic to /home/8c9d5ce0-\n",
      "[nltk_data]    |     7fb0-40e0-90b1-ea38142dc02c/nltk_data...\n",
      "[nltk_data]    |   Package wordnet_ic is already up-to-date!\n",
      "[nltk_data]    | Downloading package words to /home/8c9d5ce0-7fb0-\n",
      "[nltk_data]    |     40e0-90b1-ea38142dc02c/nltk_data...\n",
      "[nltk_data]    |   Package words is already up-to-date!\n",
      "[nltk_data]    | Downloading package maxent_ne_chunker to /home/8c9d5c\n",
      "[nltk_data]    |     e0-7fb0-40e0-90b1-ea38142dc02c/nltk_data...\n",
      "[nltk_data]    |   Package maxent_ne_chunker is already up-to-date!\n",
      "[nltk_data]    | Downloading package punkt to /home/8c9d5ce0-7fb0-\n",
      "[nltk_data]    |     40e0-90b1-ea38142dc02c/nltk_data...\n",
      "[nltk_data]    |   Package punkt is already up-to-date!\n",
      "[nltk_data]    | Downloading package snowball_data to /home/8c9d5ce0-\n",
      "[nltk_data]    |     7fb0-40e0-90b1-ea38142dc02c/nltk_data...\n",
      "[nltk_data]    |   Package snowball_data is already up-to-date!\n",
      "[nltk_data]    | Downloading package averaged_perceptron_tagger to /ho\n",
      "[nltk_data]    |     me/8c9d5ce0-7fb0-40e0-90b1-\n",
      "[nltk_data]    |     ea38142dc02c/nltk_data...\n",
      "[nltk_data]    |   Package averaged_perceptron_tagger is already up-\n",
      "[nltk_data]    |       to-date!\n",
      "[nltk_data]    | \n",
      "[nltk_data]  Done downloading collection popular\n"
     ]
    },
    {
     "data": {
      "text/plain": [
       "True"
      ]
     },
     "execution_count": 15,
     "metadata": {},
     "output_type": "execute_result"
    }
   ],
   "source": [
    "nltk.download('popular')"
   ]
  },
  {
   "cell_type": "markdown",
   "id": "98ba1e2b",
   "metadata": {},
   "source": [
    "# 1"
   ]
  },
  {
   "cell_type": "code",
   "execution_count": 33,
   "id": "221bf6cf",
   "metadata": {},
   "outputs": [
    {
     "name": "stderr",
     "output_type": "stream",
     "text": [
      "[nltk_data] Downloading package nps_chat to\n",
      "[nltk_data]     /home/8c9d5ce0-7fb0-40e0-90b1-\n",
      "[nltk_data]     ea38142dc02c/nltk_data...\n",
      "[nltk_data]   Package nps_chat is already up-to-date!\n",
      "[nltk_data] Downloading package webtext to\n",
      "[nltk_data]     /home/8c9d5ce0-7fb0-40e0-90b1-\n",
      "[nltk_data]     ea38142dc02c/nltk_data...\n",
      "[nltk_data]   Package webtext is already up-to-date!\n"
     ]
    },
    {
     "name": "stdout",
     "output_type": "stream",
     "text": [
      "*** Introductory Examples for the NLTK Book ***\n",
      "Loading text1, ..., text9 and sent1, ..., sent9\n",
      "Type the name of the text or sentence to view it.\n",
      "Type: 'texts()' or 'sents()' to list the materials.\n",
      "text1: Moby Dick by Herman Melville 1851\n",
      "text2: Sense and Sensibility by Jane Austen 1811\n",
      "text3: The Book of Genesis\n",
      "text4: Inaugural Address Corpus\n",
      "text5: Chat Corpus\n",
      "text6: Monty Python and the Holy Grail\n",
      "text7: Wall Street Journal\n",
      "text8: Personals Corpus\n",
      "text9: The Man Who Was Thursday by G . K . Chesterton 1908\n"
     ]
    }
   ],
   "source": [
    "import nltk\n",
    "nltk.download ('nps_chat') \n",
    "nltk.download('webtext')\n",
    "from nltk.book import *"
   ]
  },
  {
   "cell_type": "code",
   "execution_count": 35,
   "id": "dc1e6171",
   "metadata": {},
   "outputs": [
    {
     "name": "stdout",
     "output_type": "stream",
     "text": [
      "hapaxes: ['KING', 'Whoa', 'goes', 'Uther', 'Pendragon', 'defeator', 'Saxons', 'sovereign', 'trusty', 'length', 'breadth', 'Ridden', 'horse', 'using', 'halves', 'bangin', 'snows', 'Found', 'tropical', 'temperate', 'zone', 'fly', 'south', 'sun', 'house', 'martin', 'plover', 'warmer', 'climes', 'strangers', 'suggesting', 'migrate', 'carrying', 'grip', 'husk', 'grips', 'weight', 'ratios', 'ounce', 'bird', 'matter', 'maintain', 'needs', 'wings', 'forty', 'Am', 'interested', 'maybe', 'wants', 'non', 'migratory', 'couldn', 'bring', 'Supposing', 'strand', 'creeper', 'dorsal', 'guiding', 'feathers', '[...', 'ninepence', 'Ere', 'ill', 'moment', 'regulations', 'cart', 'baby', 'hang', 'around', 'couple', 'Robinson', 'nine', 'walk', 'thanks', 'dunno', 'Must', 'hasn', 'looked', 'object', 'automatically', 'inferior', 'exploiting', 'workers', 'anging', 'outdated', 'imperialist', 'dogma', 'perpetuates', 'social', 'differences', 'society', 'progress', 'filth', 'autonomous', 'collective', 'dictatorship', 'self', 'perpetuating', 'autocracy', 'working', 'classes', 'bringing', 'class', 'haste', 'anarcho', 'syndicalist', 'commune', 'turns', 'act', 'week', 'decision', 'ratified', 'bi', 'weekly', 'meeting', 'purely', 'internal', 'affairs', 'thirds', 'major', 'Order', 'Lady', 'Lake', 'clad', 'purest', 'shimmering', 'samite', 'aloft', 'bosom', 'signifying', 'Divine', 'Providence', 'women', 'lying', 'ponds', 'distributing', 'swords', 'basis', 'government', 'Supreme', 'derives', 'mandate', 'masses', 'farcical', 'aquatic', 'ceremony', 'expect', 'wield', 'supreme', 'watery', 'tart', 'threw', 'emperor', 'moistened', 'bint', 'lobbed', 'scimitar', 'Help', 'repressed', 'peasant', 'repressing', 'stab', 'Aaaaaah', 'Aaaaaaaaah', 'scrape', 'Umm', 'finest', 'bravest', 'proved', 'quarrel', 'move', 'hiyaah', 'adversary', 'Your', 'worse', 'liar', 'pansy', 'Huyah', 'Hiyaah', 'Aaaaaaaah', 'Victory', 'kneeling', 'Thy', 'mer', 'indeed', 'stupid', 'bastard', 'arms', 'flesh', 'wound', 'Chickennn', 'bleed', 'invincible', 'looney', 'triumphs', 'draw', 'Running', 'yellow', 'bastards', 'bite', 'legs', '5', 'false', 'hat', 'Yeaaah', 'Yeaah', 'dress', 'wart', 'makes', 'telling', 'More', 'Wood', '--...', 'Build', 'bridges', 'True', 'Does', 'sink', 'Bread', 'Apples', 'rocks', 'Cider', 'gra', 'gravy', 'Cherries', 'Mud', 'Exactly', 'logically', 'weighs', 'therefore', 'Use', 'largest', 'scales', 'Remove', 'supports', 'cop', 'science', 'honored', 'dub', 'illustrious', 'follow', 'Gallahad', 'Pure', 'Dragon', 'Angnor', 'stood', 'Bristol', 'personally', 'wet', 'himself', 'Battle', 'Badon', 'Hill', 'aptly', 'named', 'appearing', 'film', 'Together', 'formed', 'band', 'deeds', 'retold', 'throughout', 'centuries', '6', 'earth', 'banana', 'learning', 'amazes', 'Explain', 'sheep', 'bladders', 'employed', 'prevent', 'earthquakes', 'certainly', 'PATSY', 'model', 'bid', 'welcome', 'ride', 'table', 'dance', 'routines', 'chorus', 'footwork', 'impeccable', 'dine', 'ham', 'jam', 'spam', 'shows', 'formidable', 'rhymes', 'unsingable', 'opera', 'mad', 'diaphragm', 'dungeon', 'PRISONER', 'tap', 'war', 'tough', 'indefatigable', 'Between', 'quests', 'sequin', 'vests', 'impersonate', 'Clark', 'Gable', 'pram', 'outdoors', '7', 'grovel', 'groveling', 'apologise', 'Every', 'forgive', 'averting', 'miserable', 'Psalms', 'depressing', 'knock', 'example', 'purpose', '8', 'horn', 'eet', 'Guy', 'Loimbard', 'charged', 'shelter', 'night', 'keen', 'outrageous', 'accent', 'Mind', 'business', 'frighten', 'dogs', 'boil', 'nnnnniggets', 'Thpppppt', 'wanna', 'headed', 'animal', 'trough', 'wiper', 'fart', 'general', 'hamster', 'smelt', 'elderberries', 'reasonable', 'OTHER', '!)', 'mooo', 'commands', 'mooooooo', 'Thppppt', 'Fiends', 'tear', 'plan', 'later', 'bang', 'drilllll', 'sawwwww', 'C', 'est', 'bois', 'Un', 'present', 'Oui', 'oui', 'va', 'Bon', 'magne', 'clllank', 'happens', 'wait', 'nightfall', 'totally', 'unarmed', 'leaps', 'U', 'l', 'wooden', 'badger', 'CRASH', '9', 'clack', 'Picture', 'Schools', 'DIRECTOR', 'Action', 'Defeat', 'utterly', 'disheartened', 'ferocity', 'took', 'completely', 'became', 'convinced', 'strategy', 'required', 'successful', 'conclusion', 'having', 'consulted', 'closest', 'decided', 'individually', 'Aaaah', 'slash', 'Frank', '10', 'Ewing', 'accompanied', 'bold', 'forth', 'mashed', 'pulp', 'Or', 'gouged', 'elbows', 'broken', 'kneecaps', 'split', 'body', 'limbs', 'hacked', 'mangled', 'His', 'smashed', 'liver', 'removed', 'bowels', 'unplugged', 'nostrils', 'raped', 'pen', 'lads', 'Looks', 'dirty', 'afoot', 'Anarcho', 'syndicalism', 'preserving', 'forget', 'mud', 'nobody', 'ju', 'oo', 'p', 'quick', 'headoff', 'Yapping', 'lucky', 'snore', 'Anyway', 'breath', 'brush', 'bitching', 'buggered', 'scarper', 'reared', 'ugly', 'tail', 'fled', 'gallantly', 'chickened', 'feet', 'retreat', 'Bravest', 'heeh', 'CHARACTERS', 'Ho', 'Woa', 'wayy', 'Forgive', 'asking', 'Oooo', '11', 'gentle', 'attend', 'tired', 'awhile', 'Midget', 'Crapper', 'Prepare', 'Away', 'varletesses', 'beds', 'warm', 'soft', 'Chaste', 'Mine', 'delirious', 'ungallant', 'refuse', 'hospitality', 'seem', 'dull', 'compared', 'score', 'blondes', 'brunettes', 'sixteen', 'nineteen', 'half', 'protect', 'lonely', 'bathing', 'dressing', 'undressing', 'making', 'underwear', 'immediately', 'Lie', 'trouble', 'basic', 'medical', 'training', 'Piglet', 'Winston', 'Practice', 'WINSTON', 'Try', 'relax', 'absolutely', 'necessary', 'examine', 'sworn', 'chastity', 'Torment', 'identical', 'twin', 'sister', 'Dingo', 'excuse', 'Bad', 'remembered', 'evil', 'worried', 'boys', 'writing', 'glad', 'previous', 'visually', 'committed', 'wasn', 'string', 'pussy', 'jokes', 'enjoying', 'punishment', 'tie', 'spanked', 'deal', 'AMAZING', 'STUNNER', 'LOVELY', 'tonight', 'hello', 'Silence', 'temptress', 'cover', 'Really', 'Honestly', 'cope', 'defeat', 'hundred', 'nick', 'terrible', 'face', 'perilous', 'duty', 'sample', 'unhealthy', 'bet', 'gay', 'almost', 'temptation', 'still', 'nearer', 'Meanwhile', 'discovered', 'laden', 'flights', 'birds', 'walking', 'dragging', 'smashing', 'acting', 'discovers', 'vital', 'clue', 'aren', 'although', 'starling', 'oooh', '12', 'knows', 'entered', 'crossed', 'Seek', '13', 'spooky', 'Peng', 'Those', 'seldom', 'tale', 'sacrifice', 'travellers', 'woods', 'appease', 'PARTY', 'alive', 'expensive', 'hmm', 'Great', 'scott', 'bells', 'weather', '14', 'PRINCE', 'stretched', 'hills', 'valleys', 'Mother', 'b', 'started', 'Other', 'build', 'fourth', 'stayed', 'gonna', 'strongest', 'islands', 'Rather', 'song', 'married', 'owns', 'biggest', 'Britain', 'Alice', 'Erbert', 'beautiful', 'rich', 'o', 'marrying', 'Lucky', 'smack', 'Guards', 'entering', 'uhh', 'w', 'ehh', 'Alright', 'remember', 'havin', 'problems', 'noise', 'suit', 'glass', '15', 'taken', 'Most', 'kind', 'Steady', 'thwonk', 'Message', 'fwump', 'Speak', 'whoever', 'finds', 'imprisoned', 'wishes', 'Swamp', 'cry', 'distress', 'sign', 'mortally', 'c', 'Actually', 'Stay', 'send', 'accomplished', 'daring', 'heroic', 'particular', 'Farewell', '16', 'inside', 'outside', 'ptoo', 'Huy', 'Hiyah', 'Hyy', 'Hya', 'allowed', 'aaugh', 'behold', 'humble', 'terribly', 'hadn', 'somewhere', 'jump', 'conclusions', 'guards', 'pounds', 'everything', 'rope', 'wedding', 'guests', 'Didn', 'dear', 'kicked', 'chest', 'fortune', 'riding', 'country', 'drink', 'understanding', 'thonk', 'sometimes', 'worry', '17', 'crying', 'main', 'knocked', 'hell', 'everyone', 'influential', 'auntie', 'supposed', 'occasion', 'bicker', 'argue', 'witness', 'joyful', 'bond', 'wedlock', 'Unfortunately', 'fallen', 'gained', 'tragic', 'Since', 'near', 'wounding', 'recover', 'felt', 'icy', 'BRIDE', 'Uugh', 'legally', 'binding', 'sense', 'merger', 'dangerous', 'creep', 'uuup', 'Quickly', 'Heee', 'Hoa', 'wonderful', 'Excuse', 'Could', 'somebody', '18', 'crone', 'anywhere', 'town', 'sent', 'Aggh', 'friend', 'worst', 'assist', 'voluntarily', 'properly', 'SHRUBBER', 'Erm', 'ruffians', 'ladies', 'pestilence', 'Even', 'considerable', 'stress', 'period', 'history', 'Shrubberies', 'trade', 'shrubber', 'Roger', 'Shrubber', 'sell', '19', 'laurels', 'particularly', 'Ecky', 'pikang', 'zoop', 'boing', 'goodem', 'zoo', 'owli', 'zhiv', 'Therefore', 'Til', 'Recently', 'Said', 'Firstly', 'beside', 'slightly', 'higher', 'level', 'effect', 'middle', 'mightiest', 'suffice', 'vary', 'Packing', 'packing', 'chickening', 'pissing', 'throwing', 'sponge', 'Surely', 'Far', 'spoken', 'Beyond', 'met', 'frozen', 'Nador', 'forced', 'pitched', 'Eee', 'year', 'passed', 'shivering', 'Mmm', 'gave', 'miss', 'straight', 'Autumn', 'snap', 'Waa', '20', 'Forward', 'manner', 'summon', 'without', 'flint', 'tinder', 'known', 'Enchanter', 'zoosh', 'hidden', 'Ages', 'Umhm', 'helpful', 'waste', 'might', '...?', 'Y', 'Splendid', 'wherein', 'mystic', 'runes', 'Olfin', 'Bedwere', 'Rheged', 'plain', 'resting', 'ye', 'valor', 'guarded', 'creature', 'lived', 'Bones', 'full', 'strewn', 'lair', 'doubt', 'courage', 'further', 'awaits', 'pointy', 'eccentric', 'performance', '21', 'nervous', 'sire', 'foot', 'Dis', 'mount', 'Too', 'late', 'sod', 'worked', 'ordinary', 'tempered', 'rodent', 'tit', 'soiled', 'streak', 'mile', 'wide', 'killer', 'stuffed', 'mate', 'mangy', 'scots', 'git', 'warning', 'nibble', 'bum', 'sharp', 'bones', 'Chop', 'Silly', 'bleeder', 'stew', 'comin', 'harmless', 'bunny', 'lose', 'Gawain', 'Ector', 'risk', 'frontal', 'assault', 'dynamite', 'confuse', 'run', 'change', 'mistake', 'Like', 'bows', 'relics', 'carries', 'donaeis', 'eisrequiem', 'Consult', 'Book', 'Chapter', 'Two', 'verses', 'Nine', 'Twenty', 'Attila', 'raised', \",'\", 'bless', 'mayest', 'thine', 'enemies', 'bits', 'mercy', 'grin', 'feast', 'lambs', 'sloths', 'carp', 'anchovies', 'orangutans', 'breakfast', 'cereals', 'fruit', 'bats', 'chu', 'Skip', 'spake', 'First', 'Pin', 'less', 'counting', 'Four', 'nor', 'either', 'excepting', 'proceed', 'Five', 'Once', 'reached', 'lobbest', 'towards', 'foe', 'sight', 'snuff', '22', 'language', 'scholar', 'Aramaic', 'reads', 'pure', 'spirit', \"'...\", 'carving', 'dying', 'carve', 'aaggggh', 'dictating', 'Aauuggghhh', 'Aaauggh', 'Camaaaaaargue', 'France', 'Isn', 'Aauuuves', 'Cornwall', 'Ives', 'Iiiives', 'Iiiiives', 'Oooohoohohooo', 'Aauuuuugh', 'throat', 'Aauuugh', 'Oooooooh', 'alarm', 'aaaah', 'aaaaaah', 'legendary', 'eats', 'awaaay', 'awaaaaay', 'As', 'horrendous', 'lunged', 'hopeless', 'animator', 'ANIMATOR', 'Ulk', 'cartoon', 'continue', '23', 'gurgle', 'keeper', 'asks', 'traveller', 'answers', 'safety', 'cast', 'feint', 'east', 'watch', 'pray', 'luck', 'Off', 'easy', 'approacheth', 'capital', 'Assyria', 'yel', 'auuuuuuuugh', 'An', 'Huh', 'things', 'intermission', 'resumes', '24', 'radio', 'ethereal', 'end', 'Almighty', 'Thou', 'hast', 'vouchsafed', 'baaaa', 'niggets', 'Monsieur', 'brain', 'fellows', 'outwit', 'dare', 'profane', 'presence', 'doors', 'Himself', 'guided', 'mac', 'unclog', 'window', 'dresser', 'clever', 'knees', 'bent', 'advancing', 'behaviour', 'wave', 'private', 'parts', 'aunties', 'cheesy', 'electric', 'donkey', 'biters', 'wetting', 'burst', 'pimples', 'opening', 'request', 'brained', 'wipers', 'bottoms', 'glory', 'laughing', 'settles', 'depart', 'approaching', 'arrows', 'tops', 'heads', 'castanets', 'testicles', 'haaa', 'Walk', 'ignore', 'remain', 'gone', 'illegitimate', 'faced', 'bugger', 'ain', 'heard', 'nnniggets', 'Thpppt', 'Stand', 'silence', 'persons', 'Dappy', 'Today', 'blood', 'avenged', 'hoo', 'til', 'returns', 'chosen', 'Hooray', 'siren', 'ones', 'Anybody', 'armed', 'Which', 'blanket', 'hospital', 'Riiight', 'offensive', 'weapon', 'Everything', 'sonny', 'pack', 'CAMERAMAN']\n",
      "less_than_five: ['Patsy', 'Listen', 'beat', 'times', 'African', 'anyway', 'Here', 'today', 'whop', 'Why', 'over', 'Dennis', \"',\", 'By', 'thought', 'arm', 'water', 'Aaagh', 'etc', 'fight', 'many', 'pass', 'cross', 'chops', 'kick', 'enough', 'Black', 'burn', 'WITCH', 'Quiet', 'ways', 'witches', 'B', 'made', 'same', ';', 'SIR', 'trumpets', 'life', 'thing', 'someone', 'doing', 'those', 'idea', 'already', 'own', 'person', 'chance', 'than', 'twong', 'Charge', 'Hey', 'crash', 'surprise', 'S', 'each', 'north', 'shut', 'lies', 'twang', 'open', 'bed', 'big', 'cannot', 'wicked', 'naughty', 'Do', 'spank', 'Quick', 'single', 'handed', 'little', 'four', 'twenty', 'Hee', 'enchanter', 'whom', 'words', 'Prince', 'Until', 'keep', 'note', 'rescue', 'SENTRY', 'Aah', 'most', 'death', 'hand', 'path', 'Aaaugh', 'Tim', 'g', 'Hand', 'Grenade', 'Brother', 'BROTHER', 'Saint', 'thy', 'count', 'number', 'answer', 'along', 'wind', 'Halt', 'search', 'court', 'lord', 'coconuts', 'em', 'since', 'covered', 'kingdom', 'yet', 'question', 'carry', 'Will', 'its', 'every', 'why', '...]', 'says', 'soon', 'getting', 'fine', 'long', 'lost', 'round', 'anyone', 'something', 'happy', 'Old', 'woman', 'Man', 'ever', 'living', 'sort', 'executive', 'special', 'case', 'Be', 'system', 'sword', 'went', 'being', 'woosh', 'men', 'worthy', 'stand', 'Aaah', 'Have', 'leg', 'always', 'turned', 'Tell', 'apart', 'floats', 'pond', 'quack', 'fair', 'first', 'shaped', 'new', 'hall', 'Our', 'talk', 'eyes', '(', 'Of', 'show', 'bottom', 'k', 'sniff', 'Jesus', 'rrrr', 'y', 'until', 'leap', 'clank', '..', 'eight', 'WIFE', 'Tale', 'favorite', 'nasty', 'least', 'burned', 'way', 'haven', 'n', 'biscuits', 'bravely', 'never', 'Wayy', 'Anthrax', 'need', 'between', 'doctors', 'wrong', 'At', 'longer', 'THE', 'sigh', 'oral', 'sex', 'foul', 'tackle', 'handle', 'fifty', 'too', \"'!\", 'Hmm', 'Hm', 'SUN', 'Clear', 'sank', 'fell', 'listen', 'Don', 'Cut', 'Make', 'anything', 'seemed', 'scribble', \".'\", 'died', 'Hiyya', 'knew', 'awfully', 'ready', 'splat', 'best', 'suddenly', 'Nu', 'ROGER', \"'?\", 'ecky', 'another', 'running', 'looking', 'Yay', 'Winter', 'changed', 'Spring', 'Summer', 'Yup', 'Maynard', 'uuggggggh', 'Beast', 'attack', 'Hang', 'England', 'Pull', 'servant', 'ridden', 'speak', 'empty', 'together', 'winter', 'Mercea', 'Court', 'order', 'air', 'speed', 'velocity', 'European', 'point', 'agree', 'ask', 'Wait', 'minute', 'line', 'use', 'held', 'under', 'Ninepence', 'Nothing', 'stone', 'against', 'such', 'favor', 'minutes', 'won', 'next', 'Thursday', 'fooling', 'See', 'shit', 'thirty', 'seven', 'called', 'bother', 'behind', 'treat', 'economic', 'lovely', 'lady', 'yourself', 'lives', 'told', 'officer', 'majority', ',--', 'vote', 'kings', 'become', 'Excalibur', 'strange', 'power', 'cause', 'because', 'put', 'violence', 'inherent', 'Bloody', '4', 'Aagh', 'oh', 'kills', 'strength', 'sad', 'None', 'bridge', 'die', 'command', 'aside', 'left', 'Tis', 'scratch', 'mine', 'Thee', 'Hah', 'Eh', 'Chicken', 'coming', 'May', 'looks', 'forward', 'dressed', 'Augh', 'VILLAGERS', 'newt', 'whether', 'also', 'Uhh', 'Throw', 'small', 'Churches', 'Lead', 'creak', 'wise', 'names', 'Lancelot', 'nearly', 'fought', 'vicious', 'whose', 'home', 'medieval', 'er', 'able', 'scenes', 'With', 'eat', 'dancing', 'given', 'Quite', 'busy', 'push', 'try', 'task', 'dark', 'Course', 'Behold', 'blessing', 'praised', 'Hallo', 'Allo', 'de', 'food', '.)', 'u', 'types', 'force', 'pig', 'sons', 'blow', 'Thppt', 'direction', 'mother', 'taunt', 'Fetchez', 'la', 'vache', 'Quoi', 'mayhem', 'dad', 'whispering', 'un', 'lapin', 'cadeau', 'On', 'Over', 'taking', 'large', 'Haw', 'VOICE', 'seems', 'brought', 'should', 'separate', 'their', 'rode', 'minstrels', 'Bravely', 'scared', 'heart', 'work', 'freedom', 'art', 'passing', 'W', 'actually', 'Shall', 'Perhaps', 'teeth', 'tea', 'ran', 'When', 'danger', 'ooh', 'splash', 'ho', 'Open', 'thump', 'Welcome', 'keepers', 'rest', 'MIDGET', 'CRAPPER', 'guest', 'handsome', 'suffered', 'yours', 'young', 'exciting', 'used', 'Nay', 'lie', 'wounded', 'Doctor', 'once', 'setting', 'alight', 'beacon', 'problem', 'real', 'pay', 'penalty', 'ours', 'ENCHANTER', 'ARMY', 'after', 'saved', 'certain', 'flight', 'unladen', 'obviously', 'beyond', 'Gorge', 'Eternal', 'Peril', 'leads', 'Neee', 'wom', 'demand', 'return', 'Ay', 'Thsss', 'Ayy', 'day', 'curtains', 'daft', 'third', 'rather', 'while', 'girl', 'tracts', 'Herbert', 'bloody', 'huge', 'marry', 'Princess', 'even', 'enter', 'Leaving', 'N', 'meant', 'guard', 'clear', 'fold', 'Uuh', 'Tall', 'Tower', 'vain', 'pull', 'sweet', 'Idiom', 'PRINCESS', 'LUCKY', 'Morning', 'cost', 'explain', 'understand', 'bride', 'Very', 'Would', 'idiom', 'yelling', 'union', 'holy', 'daughter', 'For', 'fatal', 'Dramatically', 'Hoo', 'buy', 'Never', 'arrange', 'design', 'test', 'tree', 'herring', 'done', 'wouldn', 'far', 'sneaking', 'buggering', 'set', 'rejoicing', 'high', 'fire', 'Greetings', 'pweeng', 'Fine', 'suppose', 'Caerbannog', 'carved', 'rock', 'Follow', 'entrance', 'cruel', 'whinny', 'Keep', 'armor', 'Bors', 'BORS', 'warned', 'Antioch', 'Armaments', 'SECOND', 'grenade', 'tiny', 'Amen', 'Joseph', 'Arimathea', 'valiant', 'Aaauugh', 'ere', 'side', 'Ask', 'bridgekeeper', 'color', 'Blue', 'Auuuuuuuugh', 'suspenseful', 'police', 'dappy', 'folk', 'Put', 'van', 'KING', 'Whoa', 'goes', 'Uther', 'Pendragon', 'defeator', 'Saxons', 'sovereign', 'trusty', 'length', 'breadth', 'Ridden', 'horse', 'using', 'halves', 'bangin', 'snows', 'Found', 'tropical', 'temperate', 'zone', 'fly', 'south', 'sun', 'house', 'martin', 'plover', 'warmer', 'climes', 'strangers', 'suggesting', 'migrate', 'carrying', 'grip', 'husk', 'grips', 'weight', 'ratios', 'ounce', 'bird', 'matter', 'maintain', 'needs', 'wings', 'forty', 'Am', 'interested', 'maybe', 'wants', 'non', 'migratory', 'couldn', 'bring', 'Supposing', 'strand', 'creeper', 'dorsal', 'guiding', 'feathers', '[...', 'ninepence', 'Ere', 'ill', 'moment', 'regulations', 'cart', 'baby', 'hang', 'around', 'couple', 'Robinson', 'nine', 'walk', 'thanks', 'dunno', 'Must', 'hasn', 'looked', 'object', 'automatically', 'inferior', 'exploiting', 'workers', 'anging', 'outdated', 'imperialist', 'dogma', 'perpetuates', 'social', 'differences', 'society', 'progress', 'filth', 'autonomous', 'collective', 'dictatorship', 'self', 'perpetuating', 'autocracy', 'working', 'classes', 'bringing', 'class', 'haste', 'anarcho', 'syndicalist', 'commune', 'turns', 'act', 'week', 'decision', 'ratified', 'bi', 'weekly', 'meeting', 'purely', 'internal', 'affairs', 'thirds', 'major', 'Order', 'Lady', 'Lake', 'clad', 'purest', 'shimmering', 'samite', 'aloft', 'bosom', 'signifying', 'Divine', 'Providence', 'women', 'lying', 'ponds', 'distributing', 'swords', 'basis', 'government', 'Supreme', 'derives', 'mandate', 'masses', 'farcical', 'aquatic', 'ceremony', 'expect', 'wield', 'supreme', 'watery', 'tart', 'threw', 'emperor', 'moistened', 'bint', 'lobbed', 'scimitar', 'Help', 'repressed', 'peasant', 'repressing', 'stab', 'Aaaaaah', 'Aaaaaaaaah', 'scrape', 'Umm', 'finest', 'bravest', 'proved', 'quarrel', 'move', 'hiyaah', 'adversary', 'Your', 'worse', 'liar', 'pansy', 'Huyah', 'Hiyaah', 'Aaaaaaaah', 'Victory', 'kneeling', 'Thy', 'mer', 'indeed', 'stupid', 'bastard', 'arms', 'flesh', 'wound', 'Chickennn', 'bleed', 'invincible', 'looney', 'triumphs', 'draw', 'Running', 'yellow', 'bastards', 'bite', 'legs', '5', 'false', 'hat', 'Yeaaah', 'Yeaah', 'dress', 'wart', 'makes', 'telling', 'More', 'Wood', '--...', 'Build', 'bridges', 'True', 'Does', 'sink', 'Bread', 'Apples', 'rocks', 'Cider', 'gra', 'gravy', 'Cherries', 'Mud', 'Exactly', 'logically', 'weighs', 'therefore', 'Use', 'largest', 'scales', 'Remove', 'supports', 'cop', 'science', 'honored', 'dub', 'illustrious', 'follow', 'Gallahad', 'Pure', 'Dragon', 'Angnor', 'stood', 'Bristol', 'personally', 'wet', 'himself', 'Battle', 'Badon', 'Hill', 'aptly', 'named', 'appearing', 'film', 'Together', 'formed', 'band', 'deeds', 'retold', 'throughout', 'centuries', '6', 'earth', 'banana', 'learning', 'amazes', 'Explain', 'sheep', 'bladders', 'employed', 'prevent', 'earthquakes', 'certainly', 'PATSY', 'model', 'bid', 'welcome', 'ride', 'table', 'dance', 'routines', 'chorus', 'footwork', 'impeccable', 'dine', 'ham', 'jam', 'spam', 'shows', 'formidable', 'rhymes', 'unsingable', 'opera', 'mad', 'diaphragm', 'dungeon', 'PRISONER', 'tap', 'war', 'tough', 'indefatigable', 'Between', 'quests', 'sequin', 'vests', 'impersonate', 'Clark', 'Gable', 'pram', 'outdoors', '7', 'grovel', 'groveling', 'apologise', 'Every', 'forgive', 'averting', 'miserable', 'Psalms', 'depressing', 'knock', 'example', 'purpose', '8', 'horn', 'eet', 'Guy', 'Loimbard', 'charged', 'shelter', 'night', 'keen', 'outrageous', 'accent', 'Mind', 'business', 'frighten', 'dogs', 'boil', 'nnnnniggets', 'Thpppppt', 'wanna', 'headed', 'animal', 'trough', 'wiper', 'fart', 'general', 'hamster', 'smelt', 'elderberries', 'reasonable', 'OTHER', '!)', 'mooo', 'commands', 'mooooooo', 'Thppppt', 'Fiends', 'tear', 'plan', 'later', 'bang', 'drilllll', 'sawwwww', 'C', 'est', 'bois', 'Un', 'present', 'Oui', 'oui', 'va', 'Bon', 'magne', 'clllank', 'happens', 'wait', 'nightfall', 'totally', 'unarmed', 'leaps', 'U', 'l', 'wooden', 'badger', 'CRASH', '9', 'clack', 'Picture', 'Schools', 'DIRECTOR', 'Action', 'Defeat', 'utterly', 'disheartened', 'ferocity', 'took', 'completely', 'became', 'convinced', 'strategy', 'required', 'successful', 'conclusion', 'having', 'consulted', 'closest', 'decided', 'individually', 'Aaaah', 'slash', 'Frank', '10', 'Ewing', 'accompanied', 'bold', 'forth', 'mashed', 'pulp', 'Or', 'gouged', 'elbows', 'broken', 'kneecaps', 'split', 'body', 'limbs', 'hacked', 'mangled', 'His', 'smashed', 'liver', 'removed', 'bowels', 'unplugged', 'nostrils', 'raped', 'pen', 'lads', 'Looks', 'dirty', 'afoot', 'Anarcho', 'syndicalism', 'preserving', 'forget', 'mud', 'nobody', 'ju', 'oo', 'p', 'quick', 'headoff', 'Yapping', 'lucky', 'snore', 'Anyway', 'breath', 'brush', 'bitching', 'buggered', 'scarper', 'reared', 'ugly', 'tail', 'fled', 'gallantly', 'chickened', 'feet', 'retreat', 'Bravest', 'heeh', 'CHARACTERS', 'Ho', 'Woa', 'wayy', 'Forgive', 'asking', 'Oooo', '11', 'gentle', 'attend', 'tired', 'awhile', 'Midget', 'Crapper', 'Prepare', 'Away', 'varletesses', 'beds', 'warm', 'soft', 'Chaste', 'Mine', 'delirious', 'ungallant', 'refuse', 'hospitality', 'seem', 'dull', 'compared', 'score', 'blondes', 'brunettes', 'sixteen', 'nineteen', 'half', 'protect', 'lonely', 'bathing', 'dressing', 'undressing', 'making', 'underwear', 'immediately', 'Lie', 'trouble', 'basic', 'medical', 'training', 'Piglet', 'Winston', 'Practice', 'WINSTON', 'Try', 'relax', 'absolutely', 'necessary', 'examine', 'sworn', 'chastity', 'Torment', 'identical', 'twin', 'sister', 'Dingo', 'excuse', 'Bad', 'remembered', 'evil', 'worried', 'boys', 'writing', 'glad', 'previous', 'visually', 'committed', 'wasn', 'string', 'pussy', 'jokes', 'enjoying', 'punishment', 'tie', 'spanked', 'deal', 'AMAZING', 'STUNNER', 'LOVELY', 'tonight', 'hello', 'Silence', 'temptress', 'cover', 'Really', 'Honestly', 'cope', 'defeat', 'hundred', 'nick', 'terrible', 'face', 'perilous', 'duty', 'sample', 'unhealthy', 'bet', 'gay', 'almost', 'temptation', 'still', 'nearer', 'Meanwhile', 'discovered', 'laden', 'flights', 'birds', 'walking', 'dragging', 'smashing', 'acting', 'discovers', 'vital', 'clue', 'aren', 'although', 'starling', 'oooh', '12', 'knows', 'entered', 'crossed', 'Seek', '13', 'spooky', 'Peng', 'Those', 'seldom', 'tale', 'sacrifice', 'travellers', 'woods', 'appease', 'PARTY', 'alive', 'expensive', 'hmm', 'Great', 'scott', 'bells', 'weather', '14', 'PRINCE', 'stretched', 'hills', 'valleys', 'Mother', 'b', 'started', 'Other', 'build', 'fourth', 'stayed', 'gonna', 'strongest', 'islands', 'Rather', 'song', 'married', 'owns', 'biggest', 'Britain', 'Alice', 'Erbert', 'beautiful', 'rich', 'o', 'marrying', 'Lucky', 'smack', 'Guards', 'entering', 'uhh', 'w', 'ehh', 'Alright', 'remember', 'havin', 'problems', 'noise', 'suit', 'glass', '15', 'taken', 'Most', 'kind', 'Steady', 'thwonk', 'Message', 'fwump', 'Speak', 'whoever', 'finds', 'imprisoned', 'wishes', 'Swamp', 'cry', 'distress', 'sign', 'mortally', 'c', 'Actually', 'Stay', 'send', 'accomplished', 'daring', 'heroic', 'particular', 'Farewell', '16', 'inside', 'outside', 'ptoo', 'Huy', 'Hiyah', 'Hyy', 'Hya', 'allowed', 'aaugh', 'behold', 'humble', 'terribly', 'hadn', 'somewhere', 'jump', 'conclusions', 'guards', 'pounds', 'everything', 'rope', 'wedding', 'guests', 'Didn', 'dear', 'kicked', 'chest', 'fortune', 'riding', 'country', 'drink', 'understanding', 'thonk', 'sometimes', 'worry', '17', 'crying', 'main', 'knocked', 'hell', 'everyone', 'influential', 'auntie', 'supposed', 'occasion', 'bicker', 'argue', 'witness', 'joyful', 'bond', 'wedlock', 'Unfortunately', 'fallen', 'gained', 'tragic', 'Since', 'near', 'wounding', 'recover', 'felt', 'icy', 'BRIDE', 'Uugh', 'legally', 'binding', 'sense', 'merger', 'dangerous', 'creep', 'uuup', 'Quickly', 'Heee', 'Hoa', 'wonderful', 'Excuse', 'Could', 'somebody', '18', 'crone', 'anywhere', 'town', 'sent', 'Aggh', 'friend', 'worst', 'assist', 'voluntarily', 'properly', 'SHRUBBER', 'Erm', 'ruffians', 'ladies', 'pestilence', 'Even', 'considerable', 'stress', 'period', 'history', 'Shrubberies', 'trade', 'shrubber', 'Roger', 'Shrubber', 'sell', '19', 'laurels', 'particularly', 'Ecky', 'pikang', 'zoop', 'boing', 'goodem', 'zoo', 'owli', 'zhiv', 'Therefore', 'Til', 'Recently', 'Said', 'Firstly', 'beside', 'slightly', 'higher', 'level', 'effect', 'middle', 'mightiest', 'suffice', 'vary', 'Packing', 'packing', 'chickening', 'pissing', 'throwing', 'sponge', 'Surely', 'Far', 'spoken', 'Beyond', 'met', 'frozen', 'Nador', 'forced', 'pitched', 'Eee', 'year', 'passed', 'shivering', 'Mmm', 'gave', 'miss', 'straight', 'Autumn', 'snap', 'Waa', '20', 'Forward', 'manner', 'summon', 'without', 'flint', 'tinder', 'known', 'Enchanter', 'zoosh', 'hidden', 'Ages', 'Umhm', 'helpful', 'waste', 'might', '...?', 'Y', 'Splendid', 'wherein', 'mystic', 'runes', 'Olfin', 'Bedwere', 'Rheged', 'plain', 'resting', 'ye', 'valor', 'guarded', 'creature', 'lived', 'Bones', 'full', 'strewn', 'lair', 'doubt', 'courage', 'further', 'awaits', 'pointy', 'eccentric', 'performance', '21', 'nervous', 'sire', 'foot', 'Dis', 'mount', 'Too', 'late', 'sod', 'worked', 'ordinary', 'tempered', 'rodent', 'tit', 'soiled', 'streak', 'mile', 'wide', 'killer', 'stuffed', 'mate', 'mangy', 'scots', 'git', 'warning', 'nibble', 'bum', 'sharp', 'bones', 'Chop', 'Silly', 'bleeder', 'stew', 'comin', 'harmless', 'bunny', 'lose', 'Gawain', 'Ector', 'risk', 'frontal', 'assault', 'dynamite', 'confuse', 'run', 'change', 'mistake', 'Like', 'bows', 'relics', 'carries', 'donaeis', 'eisrequiem', 'Consult', 'Book', 'Chapter', 'Two', 'verses', 'Nine', 'Twenty', 'Attila', 'raised', \",'\", 'bless', 'mayest', 'thine', 'enemies', 'bits', 'mercy', 'grin', 'feast', 'lambs', 'sloths', 'carp', 'anchovies', 'orangutans', 'breakfast', 'cereals', 'fruit', 'bats', 'chu', 'Skip', 'spake', 'First', 'Pin', 'less', 'counting', 'Four', 'nor', 'either', 'excepting', 'proceed', 'Five', 'Once', 'reached', 'lobbest', 'towards', 'foe', 'sight', 'snuff', '22', 'language', 'scholar', 'Aramaic', 'reads', 'pure', 'spirit', \"'...\", 'carving', 'dying', 'carve', 'aaggggh', 'dictating', 'Aauuggghhh', 'Aaauggh', 'Camaaaaaargue', 'France', 'Isn', 'Aauuuves', 'Cornwall', 'Ives', 'Iiiives', 'Iiiiives', 'Oooohoohohooo', 'Aauuuuugh', 'throat', 'Aauuugh', 'Oooooooh', 'alarm', 'aaaah', 'aaaaaah', 'legendary', 'eats', 'awaaay', 'awaaaaay', 'As', 'horrendous', 'lunged', 'hopeless', 'animator', 'ANIMATOR', 'Ulk', 'cartoon', 'continue', '23', 'gurgle', 'keeper', 'asks', 'traveller', 'answers', 'safety', 'cast', 'feint', 'east', 'watch', 'pray', 'luck', 'Off', 'easy', 'approacheth', 'capital', 'Assyria', 'yel', 'auuuuuuuugh', 'An', 'Huh', 'things', 'intermission', 'resumes', '24', 'radio', 'ethereal', 'end', 'Almighty', 'Thou', 'hast', 'vouchsafed', 'baaaa', 'niggets', 'Monsieur', 'brain', 'fellows', 'outwit', 'dare', 'profane', 'presence', 'doors', 'Himself', 'guided', 'mac', 'unclog', 'window', 'dresser', 'clever', 'knees', 'bent', 'advancing', 'behaviour', 'wave', 'private', 'parts', 'aunties', 'cheesy', 'electric', 'donkey', 'biters', 'wetting', 'burst', 'pimples', 'opening', 'request', 'brained', 'wipers', 'bottoms', 'glory', 'laughing', 'settles', 'depart', 'approaching', 'arrows', 'tops', 'heads', 'castanets', 'testicles', 'haaa', 'Walk', 'ignore', 'remain', 'gone', 'illegitimate', 'faced', 'bugger', 'ain', 'heard', 'nnniggets', 'Thpppt', 'Stand', 'silence', 'persons', 'Dappy', 'Today', 'blood', 'avenged', 'hoo', 'til', 'returns', 'chosen', 'Hooray', 'siren', 'ones', 'Anybody', 'armed', 'Which', 'blanket', 'hospital', 'Riiight', 'offensive', 'weapon', 'Everything', 'sonny', 'pack', 'CAMERAMAN']\n"
     ]
    }
   ],
   "source": [
    "import matplotlib.pyplot as plt\n",
    "from nltk import FreqDist, sent_tokenize, word_tokenize\n",
    "\n",
    "textN = text6\n",
    "fdist = FreqDist(textN)\n",
    "hapaxes = fdist.hapaxes()\n",
    "less_than_five = [word for word in fdist if fdist[word] < 5]\n",
    "\n",
    "print(\"hapaxes:\", hapaxes)\n",
    "print(\"less_than_five:\", less_than_five)"
   ]
  },
  {
   "cell_type": "code",
   "execution_count": 42,
   "id": "e9e3526a",
   "metadata": {},
   "outputs": [
    {
     "data": {
      "image/png": "[encoded data removed]",
      "text/plain": [
       "<Figure size 1000x600 with 1 Axes>"
      ]
     },
     "metadata": {},
     "output_type": "display_data"
    },
    {
     "data": {
      "text/plain": [
       "<Axes: title={'center': 'Word Length vs Frequency'}, xlabel='Samples', ylabel='Counts'>"
      ]
     },
     "execution_count": 42,
     "metadata": {},
     "output_type": "execute_result"
    }
   ],
   "source": [
    "word_lengths = [len(word) for word in fdist]\n",
    "length_freq = FreqDist(word_lengths)\n",
    "\n",
    "plt.figure(figsize=(10, 6))\n",
    "length_freq.plot(title=\"Word Length vs Frequency\")"
   ]
  },
  {
   "cell_type": "code",
   "execution_count": 44,
   "id": "b8e4f4b5",
   "metadata": {},
   "outputs": [
    {
     "data": {
      "text/plain": [
       "[('Mrs', 530),\n",
       " ('Mr', 178),\n",
       " ('it', 157),\n",
       " ('her', 76),\n",
       " ('him', 67),\n",
       " ('them', 65),\n",
       " ('you', 49),\n",
       " ('me', 42),\n",
       " ('all', 39),\n",
       " ('Marianne', 36)]"
      ]
     },
     "execution_count": 44,
     "metadata": {},
     "output_type": "execute_result"
    }
   ],
   "source": [
    "from nltk.book import text2\n",
    "import re\n",
    "from nltk import FreqDist\n",
    "\n",
    "text_content = ' '.join(text2)\n",
    "\n",
    "sentences = text_content.split('.')\n",
    "\n",
    "end_words = [re.sub(r'[\\W\\s]+$','', sentence.split()[-1]) for sentence in sentences if sentence]\n",
    "fdist_end_words = FreqDist(end_words)\n",
    "\n",
    "fdist_end_words.most_common(10)"
   ]
  },
  {
   "cell_type": "markdown",
   "id": "30b25082-8d1d-422d-bf12-742e07103403",
   "metadata": {},
   "source": [
    "# 2"
   ]
  },
  {
   "cell_type": "code",
   "execution_count": 46,
   "id": "263010dc-fc76-44b8-a422-f7525f2017b2",
   "metadata": {},
   "outputs": [
    {
     "name": "stdout",
     "output_type": "stream",
     "text": [
      "Concordance for the word 'Олена':\n",
      "Displaying 25 of 83 matches:\n",
      "а Змагання мiж Аполлоном i Паном Феб Олена крутилася по кухнi , наче ошпарена .\n",
      " епiзод Георгiй не любив згадувати . Олена пишалася своiм чоловiком . Вiн був i\n",
      "е всi товаришки вже мали хлопцiв , а Олена ще була самотньою . Спочатку був кон\n",
      "аннi , скоса поглядаючи на хлопцiв . Олена опустила очi , головне – робити вигл\n",
      "вiд якоi не можна вiдвести погляду . Олена намагалася вгадати , до кого пливе ц\n",
      "ки не бiйся , – прошепотiв на вухо . Олена хотiла запротестувати , але не встиг\n",
      "аешся ? – по дорозi запитав юнак . – Олена , знiяковiло вiдповiла . – А я – Гео\n",
      " Невже я на неi схожа ? – зашарiлася Олена . – Як двi краплi води . А от щодо Ж\n",
      "культету iноземних мов , – вiдповiла Олена . – You are very clever girl to catc\n",
      "там не бачила , – наiвно здивувалася Олена . – Вiн менi не потрiбний , я знаю а\n",
      "усе знае , – засмiявся Жорж . Раптом Олена побачила знайоме обличчя . До них пi\n",
      "нта на лавровий вiнок . Вiд спогадiв Олена повернулась до реалiй . Що це вона з\n",
      "дiеш , доведеться все робити самiй . Олена частенько шкодувала , що не мае донь\n",
      "i , що купували , нехай повилазять . Олена нiколи не намагалася зрiвнятися зi с\n",
      "й , хто допомагае розквiтати генiю . Олена також колись пробувала писати оповiд\n",
      ", а струни вiд старостi потрiскали . Олена вирiшила повнiстю пiдкоритися долi д\n",
      " iдеальнi й завжди роблять помилки . Олена стежила за кожною дрiбницею , яка мо\n",
      ", – з гордiстю частенько повторювала Олена своiм друзям . Це була щира правда ,\n",
      "е барися , – незадоволено пробурчала Олена . – Ну не сердься , у думках я з вам\n",
      "е одне , то друге , – запротестувала Олена , але в трубцi чулися лише короткi г\n",
      "вiдьма , та ще й з порожнiм вiдром . Олена хотiла ii обiйти , однак та наче нав\n",
      "опоможете , – радiсно зустрiла дiтей Олена . – Мамо , ми ще маемо деякi справи \n",
      "Що ти маеш на увазi ? – стривожилася Олена . – Та я так , – вкусила себе за язи\n",
      " ти щось недоговорюеш , – наполягала Олена . – Та що я можу знати , я ж свiчки \n",
      "i , а з якоюсь жiнкою ? – вжахнулася Олена . – Я не стовiдсотково впевнена , ал\n",
      "\n",
      "Frequency distribution of words:\n",
      "[(',', 918), ('.', 691), ('–', 484), ('не', 204), ('i', 177), ('з', 135), ('?', 121), ('на', 114), ('у', 93), ('Олена', 83), ('що', 78), ('в', 73), ('а', 59), ('до', 57), ('я', 47), ('А', 42), ('Георгiй', 41), ('’', 40), ('як', 38), ('Я', 36)]\n"
     ]
    }
   ],
   "source": [
    "import nltk\n",
    "from nltk.tokenize import word_tokenize\n",
    "from nltk.text import Text\n",
    "\n",
    "with open('syurpryzy-doli.txt', 'r', encoding='cp1251') as file:\n",
    "    raw_text = file.read()\n",
    "\n",
    "tokens = word_tokenize(raw_text)\n",
    "\n",
    "custom_text = Text(tokens)\n",
    "\n",
    "print(\"Concordance for the word 'Олена':\")\n",
    "custom_text.concordance('Олена')\n",
    "\n",
    "\n",
    "print(\"\\nFrequency distribution of words:\")\n",
    "fdist = nltk.FreqDist(custom_text)\n",
    "print(fdist.most_common(20))"
   ]
  },
  {
   "cell_type": "markdown",
   "id": "a0a5402c",
   "metadata": {},
   "source": [
    "# 3"
   ]
  },
  {
   "cell_type": "code",
   "execution_count": 48,
   "id": "065e7d87",
   "metadata": {},
   "outputs": [
    {
     "name": "stdout",
     "output_type": "stream",
     "text": [
      "Float amounts: [5426.54, 466.0]\n",
      "Total sum: 5892.54\n"
     ]
    }
   ],
   "source": [
    "import re\n",
    "\n",
    "text =  \"The first amount, after applying discount, is $5426,54, and the second amount, with a discount, is $466\"\n",
    "amounts = re.findall(r'\\b\\d+,\\d+|\\b\\d+\\b', text)\n",
    "float_amounts = [float(amount.replace(',', '.')) for amount in amounts]\n",
    "print(\"Float amounts:\",float_amounts)\n",
    "\n",
    "total_sum = sum(float_amounts)\n",
    "print(\"Total sum:\", total_sum)"
   ]
  },
  {
   "cell_type": "markdown",
   "id": "a605def9-9309-400a-99c5-f21c834a438f",
   "metadata": {},
   "source": [
    "# 4"
   ]
  },
  {
   "cell_type": "code",
   "execution_count": 50,
   "id": "c78a862f",
   "metadata": {},
   "outputs": [
    {
     "name": "stdout",
     "output_type": "stream",
     "text": [
      "{\n",
      "    \"HTTPHost\": \"localhost\",\n",
      "    \"HTTPPort\": 8545,\n",
      "    \"Config\": {\n",
      "        \"Enabled\": true,\n",
      "        \"Server\": {\n",
      "            \"name\": \"wakuv2\",\n",
      "            \"type\": \"prod\"\n",
      "        },\n",
      "        \"Nodes\": [\n",
      "            \"168.166.125.145\"\n",
      "        ]\n",
      "    }\n",
      "}\n"
     ]
    }
   ],
   "source": [
    "import re\n",
    "import json\n",
    "\n",
    "json_str = '''\n",
    "{\n",
    "    \"HTTPHost\": \"localhost\",\n",
    "    \"HTTPPort\": 8545,\n",
    "    \"Config\": {\n",
    "        \"Enabled\": true,\n",
    "        \"Server\": \"wakuv2.prod\",\n",
    "        \"Nodes\": [\"8.210.222.231\", \"168.166.125.145\"]\n",
    "    }\n",
    "}\n",
    "'''\n",
    "\n",
    "data = json.loads(json_str)\n",
    "\n",
    "data['Config']['Nodes'] = [node for node in data['Config']['Nodes'] if not re.match(r'^8\\.', node)]\n",
    "\n",
    "server_name, server_type = re.match(r'^(\\w+)\\.(\\w+)$', data['Config']['Server']).groups()\n",
    "data['Config']['Server'] = {'name': server_name, 'type': server_type}\n",
    "\n",
    "json_str_modified = json.dumps(data, indent=4)\n",
    "\n",
    "print(json_str_modified)\n"
   ]
  },
  {
   "cell_type": "code",
   "execution_count": null,
   "id": "c48c00d7-f8fd-473d-b33d-576fa1bb884c",
   "metadata": {},
   "outputs": [],
   "source": []
  }
 ],
 "metadata": {
  "kernelspec": {
   "display_name": "Python 3 (ipykernel)",
   "language": "python",
   "name": "python3"
  },
  "language_info": {
   "codemirror_mode": {
    "name": "ipython",
    "version": 3
   },
   "file_extension": ".py",
   "mimetype": "text/x-python",
   "name": "python",
   "nbconvert_exporter": "python",
   "pygments_lexer": "ipython3",
   "version": "3.11.3"
  }
 },
 "nbformat": 4,
 "nbformat_minor": 5
}
